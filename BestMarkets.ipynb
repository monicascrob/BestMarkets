{
 "cells": [
  {
   "cell_type": "markdown",
   "metadata": {},
   "source": [
    "# Find the best markets to advertise in for a E-learning company project\n",
    "\n",
    "We're working for an e-learning company that offers courses on programming. Most of the courses are on web and mobile development, but we also cover other domains, like datqa science, game development etc. We want to promote our product and to invest some money in advertisement. \n",
    "\n",
    "# Our goal:\n",
    "Find out the two best markets to advertise our product in."
   ]
  },
  {
   "cell_type": "markdown",
   "metadata": {},
   "source": [
    "We can try searching existing data thart might be available for our purpose. \n",
    "We can start by exploring the data from [freeCodeCamp.](https://www.freecodecamp.org/news/we-asked-20-000-people-who-they-are-and-how-theyre-learning-to-code-fff5d668969/)\n",
    "[FreeCodeCamp](https://www.freecodecamp.org/news/) is a free e-learning platform that offers courses on web development. They run a populat Medium publication and their survey attracts new coders with varying interests. The 2017 survey data is publicly available [here.](https://github.com/freeCodeCamp/2017-new-coder-survey)"
   ]
  },
  {
   "cell_type": "markdown",
   "metadata": {},
   "source": [
    "# Read the dataset"
   ]
  },
  {
   "cell_type": "code",
   "execution_count": 46,
   "metadata": {
    "collapsed": false
   },
   "outputs": [
    {
     "name": "stderr",
     "output_type": "stream",
     "text": [
      "/dataquest/system/env/python3/lib/python3.4/site-packages/IPython/core/interactiveshell.py:2723: DtypeWarning: Columns (17,62) have mixed types. Specify dtype option on import or set low_memory=False.\n",
      "  interactivity=interactivity, compiler=compiler, result=result)\n"
     ]
    }
   ],
   "source": [
    "import pandas as pd\n",
    "import numpy as np\n",
    "survey = pd.read_csv('2017-fCC-New-Coders-Survey-Data.csv')"
   ]
  },
  {
   "cell_type": "code",
   "execution_count": 47,
   "metadata": {
    "collapsed": false
   },
   "outputs": [
    {
     "data": {
      "text/html": [
       "<div>\n",
       "<style scoped>\n",
       "    .dataframe tbody tr th:only-of-type {\n",
       "        vertical-align: middle;\n",
       "    }\n",
       "\n",
       "    .dataframe tbody tr th {\n",
       "        vertical-align: top;\n",
       "    }\n",
       "\n",
       "    .dataframe thead th {\n",
       "        text-align: right;\n",
       "    }\n",
       "</style>\n",
       "<table border=\"1\" class=\"dataframe\">\n",
       "  <thead>\n",
       "    <tr style=\"text-align: right;\">\n",
       "      <th></th>\n",
       "      <th>Age</th>\n",
       "      <th>AttendedBootcamp</th>\n",
       "      <th>BootcampFinish</th>\n",
       "      <th>BootcampLoanYesNo</th>\n",
       "      <th>BootcampName</th>\n",
       "      <th>BootcampRecommend</th>\n",
       "      <th>ChildrenNumber</th>\n",
       "      <th>CityPopulation</th>\n",
       "      <th>CodeEventConferences</th>\n",
       "      <th>CodeEventDjangoGirls</th>\n",
       "      <th>...</th>\n",
       "      <th>YouTubeFCC</th>\n",
       "      <th>YouTubeFunFunFunction</th>\n",
       "      <th>YouTubeGoogleDev</th>\n",
       "      <th>YouTubeLearnCode</th>\n",
       "      <th>YouTubeLevelUpTuts</th>\n",
       "      <th>YouTubeMIT</th>\n",
       "      <th>YouTubeMozillaHacks</th>\n",
       "      <th>YouTubeOther</th>\n",
       "      <th>YouTubeSimplilearn</th>\n",
       "      <th>YouTubeTheNewBoston</th>\n",
       "    </tr>\n",
       "  </thead>\n",
       "  <tbody>\n",
       "    <tr>\n",
       "      <th>0</th>\n",
       "      <td>27.0</td>\n",
       "      <td>0.0</td>\n",
       "      <td>NaN</td>\n",
       "      <td>NaN</td>\n",
       "      <td>NaN</td>\n",
       "      <td>NaN</td>\n",
       "      <td>NaN</td>\n",
       "      <td>more than 1 million</td>\n",
       "      <td>NaN</td>\n",
       "      <td>NaN</td>\n",
       "      <td>...</td>\n",
       "      <td>NaN</td>\n",
       "      <td>NaN</td>\n",
       "      <td>NaN</td>\n",
       "      <td>NaN</td>\n",
       "      <td>NaN</td>\n",
       "      <td>NaN</td>\n",
       "      <td>NaN</td>\n",
       "      <td>NaN</td>\n",
       "      <td>NaN</td>\n",
       "      <td>NaN</td>\n",
       "    </tr>\n",
       "    <tr>\n",
       "      <th>1</th>\n",
       "      <td>34.0</td>\n",
       "      <td>0.0</td>\n",
       "      <td>NaN</td>\n",
       "      <td>NaN</td>\n",
       "      <td>NaN</td>\n",
       "      <td>NaN</td>\n",
       "      <td>NaN</td>\n",
       "      <td>less than 100,000</td>\n",
       "      <td>NaN</td>\n",
       "      <td>NaN</td>\n",
       "      <td>...</td>\n",
       "      <td>1.0</td>\n",
       "      <td>NaN</td>\n",
       "      <td>NaN</td>\n",
       "      <td>NaN</td>\n",
       "      <td>NaN</td>\n",
       "      <td>NaN</td>\n",
       "      <td>NaN</td>\n",
       "      <td>NaN</td>\n",
       "      <td>NaN</td>\n",
       "      <td>NaN</td>\n",
       "    </tr>\n",
       "    <tr>\n",
       "      <th>2</th>\n",
       "      <td>21.0</td>\n",
       "      <td>0.0</td>\n",
       "      <td>NaN</td>\n",
       "      <td>NaN</td>\n",
       "      <td>NaN</td>\n",
       "      <td>NaN</td>\n",
       "      <td>NaN</td>\n",
       "      <td>more than 1 million</td>\n",
       "      <td>NaN</td>\n",
       "      <td>NaN</td>\n",
       "      <td>...</td>\n",
       "      <td>NaN</td>\n",
       "      <td>NaN</td>\n",
       "      <td>NaN</td>\n",
       "      <td>1.0</td>\n",
       "      <td>1.0</td>\n",
       "      <td>NaN</td>\n",
       "      <td>NaN</td>\n",
       "      <td>NaN</td>\n",
       "      <td>NaN</td>\n",
       "      <td>NaN</td>\n",
       "    </tr>\n",
       "    <tr>\n",
       "      <th>3</th>\n",
       "      <td>26.0</td>\n",
       "      <td>0.0</td>\n",
       "      <td>NaN</td>\n",
       "      <td>NaN</td>\n",
       "      <td>NaN</td>\n",
       "      <td>NaN</td>\n",
       "      <td>NaN</td>\n",
       "      <td>between 100,000 and 1 million</td>\n",
       "      <td>NaN</td>\n",
       "      <td>NaN</td>\n",
       "      <td>...</td>\n",
       "      <td>1.0</td>\n",
       "      <td>1.0</td>\n",
       "      <td>NaN</td>\n",
       "      <td>NaN</td>\n",
       "      <td>1.0</td>\n",
       "      <td>NaN</td>\n",
       "      <td>NaN</td>\n",
       "      <td>NaN</td>\n",
       "      <td>NaN</td>\n",
       "      <td>NaN</td>\n",
       "    </tr>\n",
       "    <tr>\n",
       "      <th>4</th>\n",
       "      <td>20.0</td>\n",
       "      <td>0.0</td>\n",
       "      <td>NaN</td>\n",
       "      <td>NaN</td>\n",
       "      <td>NaN</td>\n",
       "      <td>NaN</td>\n",
       "      <td>NaN</td>\n",
       "      <td>between 100,000 and 1 million</td>\n",
       "      <td>NaN</td>\n",
       "      <td>NaN</td>\n",
       "      <td>...</td>\n",
       "      <td>NaN</td>\n",
       "      <td>NaN</td>\n",
       "      <td>NaN</td>\n",
       "      <td>NaN</td>\n",
       "      <td>NaN</td>\n",
       "      <td>NaN</td>\n",
       "      <td>NaN</td>\n",
       "      <td>NaN</td>\n",
       "      <td>NaN</td>\n",
       "      <td>NaN</td>\n",
       "    </tr>\n",
       "  </tbody>\n",
       "</table>\n",
       "<p>5 rows × 136 columns</p>\n",
       "</div>"
      ],
      "text/plain": [
       "    Age  AttendedBootcamp  BootcampFinish  BootcampLoanYesNo BootcampName  \\\n",
       "0  27.0               0.0             NaN                NaN          NaN   \n",
       "1  34.0               0.0             NaN                NaN          NaN   \n",
       "2  21.0               0.0             NaN                NaN          NaN   \n",
       "3  26.0               0.0             NaN                NaN          NaN   \n",
       "4  20.0               0.0             NaN                NaN          NaN   \n",
       "\n",
       "   BootcampRecommend  ChildrenNumber                 CityPopulation  \\\n",
       "0                NaN             NaN            more than 1 million   \n",
       "1                NaN             NaN              less than 100,000   \n",
       "2                NaN             NaN            more than 1 million   \n",
       "3                NaN             NaN  between 100,000 and 1 million   \n",
       "4                NaN             NaN  between 100,000 and 1 million   \n",
       "\n",
       "   CodeEventConferences  CodeEventDjangoGirls         ...           \\\n",
       "0                   NaN                   NaN         ...            \n",
       "1                   NaN                   NaN         ...            \n",
       "2                   NaN                   NaN         ...            \n",
       "3                   NaN                   NaN         ...            \n",
       "4                   NaN                   NaN         ...            \n",
       "\n",
       "   YouTubeFCC  YouTubeFunFunFunction  YouTubeGoogleDev  YouTubeLearnCode  \\\n",
       "0         NaN                    NaN               NaN               NaN   \n",
       "1         1.0                    NaN               NaN               NaN   \n",
       "2         NaN                    NaN               NaN               1.0   \n",
       "3         1.0                    1.0               NaN               NaN   \n",
       "4         NaN                    NaN               NaN               NaN   \n",
       "\n",
       "   YouTubeLevelUpTuts  YouTubeMIT  YouTubeMozillaHacks YouTubeOther  \\\n",
       "0                 NaN         NaN                  NaN          NaN   \n",
       "1                 NaN         NaN                  NaN          NaN   \n",
       "2                 1.0         NaN                  NaN          NaN   \n",
       "3                 1.0         NaN                  NaN          NaN   \n",
       "4                 NaN         NaN                  NaN          NaN   \n",
       "\n",
       "   YouTubeSimplilearn  YouTubeTheNewBoston  \n",
       "0                 NaN                  NaN  \n",
       "1                 NaN                  NaN  \n",
       "2                 NaN                  NaN  \n",
       "3                 NaN                  NaN  \n",
       "4                 NaN                  NaN  \n",
       "\n",
       "[5 rows x 136 columns]"
      ]
     },
     "execution_count": 47,
     "metadata": {},
     "output_type": "execute_result"
    }
   ],
   "source": [
    "survey.head()"
   ]
  },
  {
   "cell_type": "code",
   "execution_count": 48,
   "metadata": {
    "collapsed": false
   },
   "outputs": [
    {
     "name": "stdout",
     "output_type": "stream",
     "text": [
      "<class 'pandas.core.frame.DataFrame'>\n",
      "RangeIndex: 18175 entries, 0 to 18174\n",
      "Columns: 136 entries, Age to YouTubeTheNewBoston\n",
      "dtypes: float64(105), object(31)\n",
      "memory usage: 18.9+ MB\n"
     ]
    }
   ],
   "source": [
    "survey.info()"
   ]
  },
  {
   "cell_type": "code",
   "execution_count": 49,
   "metadata": {
    "collapsed": false
   },
   "outputs": [
    {
     "data": {
      "text/plain": [
       "(18175, 136)"
      ]
     },
     "execution_count": 49,
     "metadata": {},
     "output_type": "execute_result"
    }
   ],
   "source": [
    "survey.shape"
   ]
  },
  {
   "cell_type": "markdown",
   "metadata": {},
   "source": [
    "You can learn more about the survey, [here.](https://www.freecodecamp.org/news/take-the-2017-new-coder-survey-and-help-us-build-a-massive-public-dataset-8c808cbee7eb/)"
   ]
  },
  {
   "cell_type": "markdown",
   "metadata": {},
   "source": [
    "# Checking for sample representativity\n",
    "\n",
    "We need to clarify first if we have the right group of people for our analysis.\n",
    "The JobRoleInterest column describes the role they'd be interested in working for each participant. That should mean that they would also like to learn more about that domain.\n",
    "Let's generate a frequency distribution table for that column and analyze it."
   ]
  },
  {
   "cell_type": "code",
   "execution_count": 50,
   "metadata": {
    "collapsed": false
   },
   "outputs": [
    {
     "data": {
      "text/plain": [
       "Full-Stack Web Developer                                                                                                                                                                                                                                                    11.770595\n",
       "  Front-End Web Developer                                                                                                                                                                                                                                                    6.435927\n",
       "  Data Scientist                                                                                                                                                                                                                                                             2.173913\n",
       "Back-End Web Developer                                                                                                                                                                                                                                                       2.030892\n",
       "  Mobile Developer                                                                                                                                                                                                                                                           1.673341\n",
       "Game Developer                                                                                                                                                                                                                                                               1.630435\n",
       "Information Security                                                                                                                                                                                                                                                         1.315789\n",
       "Full-Stack Web Developer,   Front-End Web Developer                                                                                                                                                                                                                          0.915332\n",
       "  Front-End Web Developer, Full-Stack Web Developer                                                                                                                                                                                                                          0.800915\n",
       "  Product Manager                                                                                                                                                                                                                                                            0.786613\n",
       "Data Engineer                                                                                                                                                                                                                                                                0.758009\n",
       "  User Experience Designer                                                                                                                                                                                                                                                   0.743707\n",
       "  User Experience Designer,   Front-End Web Developer                                                                                                                                                                                                                        0.614989\n",
       "  Front-End Web Developer, Back-End Web Developer, Full-Stack Web Developer                                                                                                                                                                                                  0.557780\n",
       "Back-End Web Developer,   Front-End Web Developer, Full-Stack Web Developer                                                                                                                                                                                                  0.514874\n",
       "Back-End Web Developer, Full-Stack Web Developer,   Front-End Web Developer                                                                                                                                                                                                  0.514874\n",
       "  DevOps / SysAdmin                                                                                                                                                                                                                                                          0.514874\n",
       "Full-Stack Web Developer,   Front-End Web Developer, Back-End Web Developer                                                                                                                                                                                                  0.443364\n",
       "  Front-End Web Developer, Full-Stack Web Developer, Back-End Web Developer                                                                                                                                                                                                  0.429062\n",
       "  Front-End Web Developer,   User Experience Designer                                                                                                                                                                                                                        0.414760\n",
       "Full-Stack Web Developer,   Mobile Developer                                                                                                                                                                                                                                 0.414760\n",
       "Back-End Web Developer, Full-Stack Web Developer                                                                                                                                                                                                                             0.386156\n",
       "Full-Stack Web Developer, Back-End Web Developer                                                                                                                                                                                                                             0.371854\n",
       "Back-End Web Developer,   Front-End Web Developer                                                                                                                                                                                                                            0.286041\n",
       "Data Engineer,   Data Scientist                                                                                                                                                                                                                                              0.271739\n",
       "Full-Stack Web Developer, Back-End Web Developer,   Front-End Web Developer                                                                                                                                                                                                  0.271739\n",
       "  Front-End Web Developer,   Mobile Developer                                                                                                                                                                                                                                0.257437\n",
       "Full-Stack Web Developer,   Data Scientist                                                                                                                                                                                                                                   0.243135\n",
       "  Data Scientist, Data Engineer                                                                                                                                                                                                                                              0.228833\n",
       "  Mobile Developer, Game Developer                                                                                                                                                                                                                                           0.228833\n",
       "                                                                                                                                                                                                                                                                              ...    \n",
       "  User Experience Designer,   Front-End Web Developer,   Quality Assurance Engineer, Information Architect                                                                                                                                                                   0.014302\n",
       "Back-End Web Developer, Game Developer,   Front-End Web Developer, Information Security                                                                                                                                                                                      0.014302\n",
       "Game Developer, Data Engineer, Back-End Web Developer, Information Security                                                                                                                                                                                                  0.014302\n",
       "  Data Scientist,   DevOps / SysAdmin, Information Security, Data Engineer                                                                                                                                                                                                   0.014302\n",
       "  Data Scientist, Full-Stack Web Developer,   User Experience Designer                                                                                                                                                                                                       0.014302\n",
       "  Quality Assurance Engineer, Information Security                                                                                                                                                                                                                           0.014302\n",
       "  Data Scientist, Game Developer, Back-End Web Developer, Full-Stack Web Developer                                                                                                                                                                                           0.014302\n",
       "  User Experience Designer,   Mobile Developer, Game Developer, Data Engineer, Full-Stack Web Developer,   Data Scientist                                                                                                                                                    0.014302\n",
       "Game Developer,   DevOps / SysAdmin, Full-Stack Web Developer,   Front-End Web Developer, Back-End Web Developer,   Mobile Developer                                                                                                                                         0.014302\n",
       "Game Developer, Programmer                                                                                                                                                                                                                                                   0.014302\n",
       "Back-End Web Developer,   DevOps / SysAdmin, Full-Stack Web Developer,   Front-End Web Developer,   Data Scientist, Information Security,   Quality Assurance Engineer                                                                                                       0.014302\n",
       "  Product Manager,   User Experience Designer,   Front-End Web Developer,   Mobile Developer                                                                                                                                                                                 0.014302\n",
       "Game Developer,   Mobile Developer, Back-End Web Developer,   Front-End Web Developer, Information Security                                                                                                                                                                  0.014302\n",
       "  Data Scientist,   User Experience Designer, Full-Stack Web Developer, Data Engineer                                                                                                                                                                                        0.014302\n",
       "College professor                                                                                                                                                                                                                                                            0.014302\n",
       "Information Security, Game Developer, Back-End Web Developer, Full-Stack Web Developer                                                                                                                                                                                       0.014302\n",
       "Full-Stack Web Developer, Back-End Web Developer, Game Developer,   Front-End Web Developer, Information Security                                                                                                                                                            0.014302\n",
       "  Mobile Developer, Full-Stack Web Developer, Game Developer,   DevOps / SysAdmin, Data Engineer,   Front-End Web Developer, Information Security,   Data Scientist, Back-End Web Developer                                                                                  0.014302\n",
       "Game Developer,   Front-End Web Developer, Back-End Web Developer, Data Engineer, Full-Stack Web Developer                                                                                                                                                                   0.014302\n",
       "Machine learning and AI                                                                                                                                                                                                                                                      0.014302\n",
       "  Mobile Developer,   Product Manager, Game Developer,   Front-End Web Developer, Full-Stack Web Developer, Back-End Web Developer                                                                                                                                           0.014302\n",
       "Back-End Web Developer,   Front-End Web Developer,   User Experience Designer, Full-Stack Web Developer,   Mobile Developer                                                                                                                                                  0.014302\n",
       "  DevOps / SysAdmin, Full-Stack Web Developer,   Front-End Web Developer, Back-End Web Developer, Game Developer                                                                                                                                                             0.014302\n",
       "  Data Scientist,   Product Manager, Full-Stack Web Developer, Information Security                                                                                                                                                                                          0.014302\n",
       "  Product Manager,   User Experience Designer,   Data Scientist, Information Security, Data Engineer                                                                                                                                                                         0.014302\n",
       "Game Developer, Data Engineer, Information Security,   Product Manager, Full-Stack Web Developer, Back-End Web Developer,   Mobile Developer,   DevOps / SysAdmin                                                                                                            0.014302\n",
       "  Front-End Web Developer, Data Engineer, Back-End Web Developer, Full-Stack Web Developer                                                                                                                                                                                   0.014302\n",
       "Game Developer,   Mobile Developer,   Front-End Web Developer, Full-Stack Web Developer,   User Experience Designer,   Product Manager, Back-End Web Developer                                                                                                               0.014302\n",
       "Game Developer, Back-End Web Developer, Full-Stack Web Developer, Data Engineer,   User Experience Designer,   Front-End Web Developer,   Mobile Developer,   Data Scientist, Bioinformatitian                                                                               0.014302\n",
       "  Product Manager, Full-Stack Web Developer,   Mobile Developer,   User Experience Designer, Data Engineer,   Front-End Web Developer,   Data Scientist, Information Security, Game Developer,   DevOps / SysAdmin, Back-End Web Developer,   Quality Assurance Engineer     0.014302\n",
       "Name: JobRoleInterest, Length: 3213, dtype: float64"
      ]
     },
     "execution_count": 50,
     "metadata": {},
     "output_type": "execute_result"
    }
   ],
   "source": [
    "survey['JobRoleInterest'].value_counts(normalize=True) * 100"
   ]
  },
  {
   "cell_type": "markdown",
   "metadata": {},
   "source": [
    "At a first glance, we can notice that:\n",
    " - many people are interested in web development\n",
    " - many people have more than one interest\n",
    " - a few are interested in mobile development\n",
    " \n",
    "Let's drop the null values and split the column into options to find the number of options for each participant."
   ]
  },
  {
   "cell_type": "code",
   "execution_count": 51,
   "metadata": {
    "collapsed": true
   },
   "outputs": [],
   "source": [
    "interest_no_nulls = survey['JobRoleInterest'].dropna()\n",
    "split_interest = interest_no_nulls.str.split(',')"
   ]
  },
  {
   "cell_type": "code",
   "execution_count": 52,
   "metadata": {
    "collapsed": false
   },
   "outputs": [
    {
     "data": {
      "text/plain": [
       "1     31.650458\n",
       "2     10.883867\n",
       "3     15.889588\n",
       "4     15.217391\n",
       "5     12.042334\n",
       "6      6.721968\n",
       "7      3.861556\n",
       "8      1.759153\n",
       "9      0.986842\n",
       "10     0.471968\n",
       "11     0.185927\n",
       "12     0.300343\n",
       "13     0.028604\n",
       "Name: JobRoleInterest, dtype: float64"
      ]
     },
     "execution_count": 52,
     "metadata": {},
     "output_type": "execute_result"
    }
   ],
   "source": [
    "n_options = split_interest.apply(lambda x: len(x))\n",
    "n_options.value_counts(normalize=True).sort_index()*100"
   ]
  },
  {
   "cell_type": "markdown",
   "metadata": {},
   "source": [
    "31% of the participants are focused on one domain, but the rest are looking at more options. This might be a good thing for us, because we offer various courses. Our main interest is in web development and mobile development, so let's see how many are interested in these domains."
   ]
  },
  {
   "cell_type": "code",
   "execution_count": 53,
   "metadata": {
    "collapsed": false
   },
   "outputs": [],
   "source": [
    "web_mobile = interest_no_nulls.str.contains('Web Developer|Mobile Developer')\n",
    "freq = web_mobile.value_counts(normalize=True)*100"
   ]
  },
  {
   "cell_type": "markdown",
   "metadata": {},
   "source": [
    "86% are interested in Web Developer or Mobile Developer roles.\n",
    "Let's make our analysis more visual."
   ]
  },
  {
   "cell_type": "code",
   "execution_count": 54,
   "metadata": {
    "collapsed": false
   },
   "outputs": [
    {
     "data": {
      "image/png": "[encoded data removed]",
      "text/plain": [
       "<matplotlib.figure.Figure at 0x7f0a9c9710f0>"
      ]
     },
     "metadata": {},
     "output_type": "display_data"
    }
   ],
   "source": [
    "%matplotlib inline\n",
    "import matplotlib.pyplot as plt\n",
    "plt.style.use('fivethirtyeight')\n",
    "\n",
    "freq.plot.bar()\n",
    "plt.title('Participants interested in Web/Mobile Development', y=1.08)\n",
    "plt.ylabel('Percentage', fontsize = 12)\n",
    "plt.xticks([0,1], ['Web/Mobile Development', 'Other subject'], rotation = 0)\n",
    "plt.ylim([0,100])\n",
    "plt.show()\n",
    "\n",
    "\n"
   ]
  },
  {
   "cell_type": "markdown",
   "metadata": {},
   "source": [
    "This sample is definitely representative to our target population.\n",
    "\n",
    "We should start learning more about them:\n",
    " - where are they located\n",
    " - what are the locations with the greatest number of new coders\n",
    " - how much money new coders are willing to spend on learning"
   ]
  },
  {
   "cell_type": "markdown",
   "metadata": {},
   "source": [
    "# Location\n",
    "We have 2 columns that offer information about location, one is CountryCitizen and the other is CountryLive. We're more interested about where they live, wo we are going to use CountryLive column for our analysis.\n",
    "\n",
    "We can try and find the two best countries to advertise in.\n",
    "To make sure we're working with a repressentative sample, let's drop all the rows where the participants didn't answer what role they are interested in."
   ]
  },
  {
   "cell_type": "code",
   "execution_count": 55,
   "metadata": {
    "collapsed": false
   },
   "outputs": [
    {
     "data": {
      "text/html": [
       "<div>\n",
       "<style scoped>\n",
       "    .dataframe tbody tr th:only-of-type {\n",
       "        vertical-align: middle;\n",
       "    }\n",
       "\n",
       "    .dataframe tbody tr th {\n",
       "        vertical-align: top;\n",
       "    }\n",
       "\n",
       "    .dataframe thead th {\n",
       "        text-align: right;\n",
       "    }\n",
       "</style>\n",
       "<table border=\"1\" class=\"dataframe\">\n",
       "  <thead>\n",
       "    <tr style=\"text-align: right;\">\n",
       "      <th></th>\n",
       "      <th>Absolute frequency</th>\n",
       "      <th>Percentage</th>\n",
       "    </tr>\n",
       "  </thead>\n",
       "  <tbody>\n",
       "    <tr>\n",
       "      <th>United States of America</th>\n",
       "      <td>3125</td>\n",
       "      <td>45.700497</td>\n",
       "    </tr>\n",
       "    <tr>\n",
       "      <th>India</th>\n",
       "      <td>528</td>\n",
       "      <td>7.721556</td>\n",
       "    </tr>\n",
       "    <tr>\n",
       "      <th>United Kingdom</th>\n",
       "      <td>315</td>\n",
       "      <td>4.606610</td>\n",
       "    </tr>\n",
       "    <tr>\n",
       "      <th>Canada</th>\n",
       "      <td>260</td>\n",
       "      <td>3.802281</td>\n",
       "    </tr>\n",
       "    <tr>\n",
       "      <th>Poland</th>\n",
       "      <td>131</td>\n",
       "      <td>1.915765</td>\n",
       "    </tr>\n",
       "    <tr>\n",
       "      <th>Brazil</th>\n",
       "      <td>129</td>\n",
       "      <td>1.886517</td>\n",
       "    </tr>\n",
       "    <tr>\n",
       "      <th>Germany</th>\n",
       "      <td>125</td>\n",
       "      <td>1.828020</td>\n",
       "    </tr>\n",
       "    <tr>\n",
       "      <th>Australia</th>\n",
       "      <td>112</td>\n",
       "      <td>1.637906</td>\n",
       "    </tr>\n",
       "    <tr>\n",
       "      <th>Russia</th>\n",
       "      <td>102</td>\n",
       "      <td>1.491664</td>\n",
       "    </tr>\n",
       "    <tr>\n",
       "      <th>Ukraine</th>\n",
       "      <td>89</td>\n",
       "      <td>1.301550</td>\n",
       "    </tr>\n",
       "    <tr>\n",
       "      <th>Nigeria</th>\n",
       "      <td>84</td>\n",
       "      <td>1.228429</td>\n",
       "    </tr>\n",
       "    <tr>\n",
       "      <th>Spain</th>\n",
       "      <td>77</td>\n",
       "      <td>1.126060</td>\n",
       "    </tr>\n",
       "    <tr>\n",
       "      <th>France</th>\n",
       "      <td>75</td>\n",
       "      <td>1.096812</td>\n",
       "    </tr>\n",
       "    <tr>\n",
       "      <th>Romania</th>\n",
       "      <td>71</td>\n",
       "      <td>1.038315</td>\n",
       "    </tr>\n",
       "    <tr>\n",
       "      <th>Netherlands (Holland, Europe)</th>\n",
       "      <td>65</td>\n",
       "      <td>0.950570</td>\n",
       "    </tr>\n",
       "    <tr>\n",
       "      <th>Italy</th>\n",
       "      <td>62</td>\n",
       "      <td>0.906698</td>\n",
       "    </tr>\n",
       "    <tr>\n",
       "      <th>Philippines</th>\n",
       "      <td>52</td>\n",
       "      <td>0.760456</td>\n",
       "    </tr>\n",
       "    <tr>\n",
       "      <th>Serbia</th>\n",
       "      <td>52</td>\n",
       "      <td>0.760456</td>\n",
       "    </tr>\n",
       "    <tr>\n",
       "      <th>Greece</th>\n",
       "      <td>46</td>\n",
       "      <td>0.672711</td>\n",
       "    </tr>\n",
       "    <tr>\n",
       "      <th>Ireland</th>\n",
       "      <td>43</td>\n",
       "      <td>0.628839</td>\n",
       "    </tr>\n",
       "    <tr>\n",
       "      <th>South Africa</th>\n",
       "      <td>39</td>\n",
       "      <td>0.570342</td>\n",
       "    </tr>\n",
       "    <tr>\n",
       "      <th>Mexico</th>\n",
       "      <td>37</td>\n",
       "      <td>0.541094</td>\n",
       "    </tr>\n",
       "    <tr>\n",
       "      <th>Turkey</th>\n",
       "      <td>36</td>\n",
       "      <td>0.526470</td>\n",
       "    </tr>\n",
       "    <tr>\n",
       "      <th>Singapore</th>\n",
       "      <td>34</td>\n",
       "      <td>0.497221</td>\n",
       "    </tr>\n",
       "    <tr>\n",
       "      <th>Hungary</th>\n",
       "      <td>34</td>\n",
       "      <td>0.497221</td>\n",
       "    </tr>\n",
       "    <tr>\n",
       "      <th>New Zealand</th>\n",
       "      <td>33</td>\n",
       "      <td>0.482597</td>\n",
       "    </tr>\n",
       "    <tr>\n",
       "      <th>Croatia</th>\n",
       "      <td>32</td>\n",
       "      <td>0.467973</td>\n",
       "    </tr>\n",
       "    <tr>\n",
       "      <th>Argentina</th>\n",
       "      <td>32</td>\n",
       "      <td>0.467973</td>\n",
       "    </tr>\n",
       "    <tr>\n",
       "      <th>Pakistan</th>\n",
       "      <td>31</td>\n",
       "      <td>0.453349</td>\n",
       "    </tr>\n",
       "    <tr>\n",
       "      <th>Sweden</th>\n",
       "      <td>31</td>\n",
       "      <td>0.453349</td>\n",
       "    </tr>\n",
       "    <tr>\n",
       "      <th>...</th>\n",
       "      <td>...</td>\n",
       "      <td>...</td>\n",
       "    </tr>\n",
       "    <tr>\n",
       "      <th>Gambia</th>\n",
       "      <td>1</td>\n",
       "      <td>0.014624</td>\n",
       "    </tr>\n",
       "    <tr>\n",
       "      <th>Gibraltar</th>\n",
       "      <td>1</td>\n",
       "      <td>0.014624</td>\n",
       "    </tr>\n",
       "    <tr>\n",
       "      <th>Cayman Islands</th>\n",
       "      <td>1</td>\n",
       "      <td>0.014624</td>\n",
       "    </tr>\n",
       "    <tr>\n",
       "      <th>Bolivia</th>\n",
       "      <td>1</td>\n",
       "      <td>0.014624</td>\n",
       "    </tr>\n",
       "    <tr>\n",
       "      <th>Sudan</th>\n",
       "      <td>1</td>\n",
       "      <td>0.014624</td>\n",
       "    </tr>\n",
       "    <tr>\n",
       "      <th>Nambia</th>\n",
       "      <td>1</td>\n",
       "      <td>0.014624</td>\n",
       "    </tr>\n",
       "    <tr>\n",
       "      <th>Anguilla</th>\n",
       "      <td>1</td>\n",
       "      <td>0.014624</td>\n",
       "    </tr>\n",
       "    <tr>\n",
       "      <th>Nicaragua</th>\n",
       "      <td>1</td>\n",
       "      <td>0.014624</td>\n",
       "    </tr>\n",
       "    <tr>\n",
       "      <th>Liberia</th>\n",
       "      <td>1</td>\n",
       "      <td>0.014624</td>\n",
       "    </tr>\n",
       "    <tr>\n",
       "      <th>Vanuatu</th>\n",
       "      <td>1</td>\n",
       "      <td>0.014624</td>\n",
       "    </tr>\n",
       "    <tr>\n",
       "      <th>Mozambique</th>\n",
       "      <td>1</td>\n",
       "      <td>0.014624</td>\n",
       "    </tr>\n",
       "    <tr>\n",
       "      <th>Cuba</th>\n",
       "      <td>1</td>\n",
       "      <td>0.014624</td>\n",
       "    </tr>\n",
       "    <tr>\n",
       "      <th>Rwanda</th>\n",
       "      <td>1</td>\n",
       "      <td>0.014624</td>\n",
       "    </tr>\n",
       "    <tr>\n",
       "      <th>Kyrgyzstan</th>\n",
       "      <td>1</td>\n",
       "      <td>0.014624</td>\n",
       "    </tr>\n",
       "    <tr>\n",
       "      <th>Somalia</th>\n",
       "      <td>1</td>\n",
       "      <td>0.014624</td>\n",
       "    </tr>\n",
       "    <tr>\n",
       "      <th>Papua New Guinea</th>\n",
       "      <td>1</td>\n",
       "      <td>0.014624</td>\n",
       "    </tr>\n",
       "    <tr>\n",
       "      <th>Turkmenistan</th>\n",
       "      <td>1</td>\n",
       "      <td>0.014624</td>\n",
       "    </tr>\n",
       "    <tr>\n",
       "      <th>Botswana</th>\n",
       "      <td>1</td>\n",
       "      <td>0.014624</td>\n",
       "    </tr>\n",
       "    <tr>\n",
       "      <th>Cameroon</th>\n",
       "      <td>1</td>\n",
       "      <td>0.014624</td>\n",
       "    </tr>\n",
       "    <tr>\n",
       "      <th>Yemen</th>\n",
       "      <td>1</td>\n",
       "      <td>0.014624</td>\n",
       "    </tr>\n",
       "    <tr>\n",
       "      <th>Jordan</th>\n",
       "      <td>1</td>\n",
       "      <td>0.014624</td>\n",
       "    </tr>\n",
       "    <tr>\n",
       "      <th>Samoa</th>\n",
       "      <td>1</td>\n",
       "      <td>0.014624</td>\n",
       "    </tr>\n",
       "    <tr>\n",
       "      <th>Guadeloupe</th>\n",
       "      <td>1</td>\n",
       "      <td>0.014624</td>\n",
       "    </tr>\n",
       "    <tr>\n",
       "      <th>Channel Islands</th>\n",
       "      <td>1</td>\n",
       "      <td>0.014624</td>\n",
       "    </tr>\n",
       "    <tr>\n",
       "      <th>Angola</th>\n",
       "      <td>1</td>\n",
       "      <td>0.014624</td>\n",
       "    </tr>\n",
       "    <tr>\n",
       "      <th>Guatemala</th>\n",
       "      <td>1</td>\n",
       "      <td>0.014624</td>\n",
       "    </tr>\n",
       "    <tr>\n",
       "      <th>Qatar</th>\n",
       "      <td>1</td>\n",
       "      <td>0.014624</td>\n",
       "    </tr>\n",
       "    <tr>\n",
       "      <th>Aruba</th>\n",
       "      <td>1</td>\n",
       "      <td>0.014624</td>\n",
       "    </tr>\n",
       "    <tr>\n",
       "      <th>Panama</th>\n",
       "      <td>1</td>\n",
       "      <td>0.014624</td>\n",
       "    </tr>\n",
       "    <tr>\n",
       "      <th>Myanmar</th>\n",
       "      <td>1</td>\n",
       "      <td>0.014624</td>\n",
       "    </tr>\n",
       "  </tbody>\n",
       "</table>\n",
       "<p>137 rows × 2 columns</p>\n",
       "</div>"
      ],
      "text/plain": [
       "                               Absolute frequency  Percentage\n",
       "United States of America                     3125   45.700497\n",
       "India                                         528    7.721556\n",
       "United Kingdom                                315    4.606610\n",
       "Canada                                        260    3.802281\n",
       "Poland                                        131    1.915765\n",
       "Brazil                                        129    1.886517\n",
       "Germany                                       125    1.828020\n",
       "Australia                                     112    1.637906\n",
       "Russia                                        102    1.491664\n",
       "Ukraine                                        89    1.301550\n",
       "Nigeria                                        84    1.228429\n",
       "Spain                                          77    1.126060\n",
       "France                                         75    1.096812\n",
       "Romania                                        71    1.038315\n",
       "Netherlands (Holland, Europe)                  65    0.950570\n",
       "Italy                                          62    0.906698\n",
       "Philippines                                    52    0.760456\n",
       "Serbia                                         52    0.760456\n",
       "Greece                                         46    0.672711\n",
       "Ireland                                        43    0.628839\n",
       "South Africa                                   39    0.570342\n",
       "Mexico                                         37    0.541094\n",
       "Turkey                                         36    0.526470\n",
       "Singapore                                      34    0.497221\n",
       "Hungary                                        34    0.497221\n",
       "New Zealand                                    33    0.482597\n",
       "Croatia                                        32    0.467973\n",
       "Argentina                                      32    0.467973\n",
       "Pakistan                                       31    0.453349\n",
       "Sweden                                         31    0.453349\n",
       "...                                           ...         ...\n",
       "Gambia                                          1    0.014624\n",
       "Gibraltar                                       1    0.014624\n",
       "Cayman Islands                                  1    0.014624\n",
       "Bolivia                                         1    0.014624\n",
       "Sudan                                           1    0.014624\n",
       "Nambia                                          1    0.014624\n",
       "Anguilla                                        1    0.014624\n",
       "Nicaragua                                       1    0.014624\n",
       "Liberia                                         1    0.014624\n",
       "Vanuatu                                         1    0.014624\n",
       "Mozambique                                      1    0.014624\n",
       "Cuba                                            1    0.014624\n",
       "Rwanda                                          1    0.014624\n",
       "Kyrgyzstan                                      1    0.014624\n",
       "Somalia                                         1    0.014624\n",
       "Papua New Guinea                                1    0.014624\n",
       "Turkmenistan                                    1    0.014624\n",
       "Botswana                                        1    0.014624\n",
       "Cameroon                                        1    0.014624\n",
       "Yemen                                           1    0.014624\n",
       "Jordan                                          1    0.014624\n",
       "Samoa                                           1    0.014624\n",
       "Guadeloupe                                      1    0.014624\n",
       "Channel Islands                                 1    0.014624\n",
       "Angola                                          1    0.014624\n",
       "Guatemala                                       1    0.014624\n",
       "Qatar                                           1    0.014624\n",
       "Aruba                                           1    0.014624\n",
       "Panama                                          1    0.014624\n",
       "Myanmar                                         1    0.014624\n",
       "\n",
       "[137 rows x 2 columns]"
      ]
     },
     "execution_count": 55,
     "metadata": {},
     "output_type": "execute_result"
    }
   ],
   "source": [
    "survey_updated = survey[survey['JobRoleInterest'].notnull()].copy()\n",
    "absolute_freq = survey_updated['CountryLive'].value_counts()\n",
    "relative_freq = survey_updated['CountryLive'].value_counts(normalize=True)*100\n",
    "\n",
    "pd.DataFrame(data = {'Absolute frequency':absolute_freq, 'Percentage':relative_freq})"
   ]
  },
  {
   "cell_type": "markdown",
   "metadata": {},
   "source": [
    "# Spending Money\n",
    "\n",
    "The top markets are USA, India, UK and Canda. We still need to take a closer look to understand how much money are people willing to spend on learning. High density might mean also people interested in free options.\n",
    "\n",
    "The MoneyForLearning column, describes in US Dollars the amoount of money spent by participants from the moment they started coding until the moment they completed the survey. Our monthly subscription is $59, so we need to know how much money they are spenging on a monthly basis.\n",
    "\n",
    "Considering that we already found the countries with the highest frequency, that are also English speaking countries (our courses are written in English), we are going to limit our analysis to those locations."
   ]
  },
  {
   "cell_type": "markdown",
   "metadata": {},
   "source": [
    "We will create a new column -MoneyPerMonth- that contains the amount of money a stundet has spent per month, using MoneyForLearning and MonthsProgramming columns. \n",
    "To avoid divizion by 0, we will replace all values of 0 with 1 in our MonthsProgramming column.\n",
    "We'll also get rid of the rows that contain null values in our new column."
   ]
  },
  {
   "cell_type": "code",
   "execution_count": 56,
   "metadata": {
    "collapsed": false
   },
   "outputs": [
    {
     "data": {
      "text/plain": [
       "675"
      ]
     },
     "execution_count": 56,
     "metadata": {},
     "output_type": "execute_result"
    }
   ],
   "source": [
    "survey_updated['MonthsProgramming'].replace(0,1, inplace=True) \n",
    "survey_updated['MoneyPerMonth'] = survey_updated['MoneyForLearning'] / survey_updated['MonthsProgramming']\n",
    "survey_updated['MoneyPerMonth'].isnull().sum()"
   ]
  },
  {
   "cell_type": "code",
   "execution_count": 57,
   "metadata": {
    "collapsed": false
   },
   "outputs": [],
   "source": [
    "survey_updated = survey_updated[survey_updated['MoneyPerMonth'].notnull()]"
   ]
  },
  {
   "cell_type": "markdown",
   "metadata": {
    "collapsed": false
   },
   "source": [
    "We need to remove also the rows that have null values in the ContryLive column.\n",
    "Finally, we are going to group the remaining data by the CountryLive column and find out how much money a student spends on average each month in the US, India, the UK and Canada."
   ]
  },
  {
   "cell_type": "code",
   "execution_count": 59,
   "metadata": {
    "collapsed": false
   },
   "outputs": [],
   "source": [
    "survey_updated = survey_updated[survey_updated['CountryLive'].notnull()]"
   ]
  },
  {
   "cell_type": "code",
   "execution_count": 68,
   "metadata": {
    "collapsed": false
   },
   "outputs": [
    {
     "data": {
      "text/plain": [
       "CountryLive\n",
       "United States of America    227.997996\n",
       "India                       135.100982\n",
       "United Kingdom               45.534443\n",
       "Canada                      113.510961\n",
       "Name: MoneyPerMonth, dtype: float64"
      ]
     },
     "execution_count": 68,
     "metadata": {},
     "output_type": "execute_result"
    }
   ],
   "source": [
    "countries_mean = survey_updated.groupby('CountryLive').mean()\n",
    "countries_mean['MoneyPerMonth'][['United States of America', 'India', 'United Kingdom', 'Canada']]"
   ]
  },
  {
   "cell_type": "markdown",
   "metadata": {},
   "source": [
    "# Looking for extreme Ouliers\n",
    "\n",
    "It is surprising to see that people in UK and Canada are spending less on learning than people in India, considering the GDP. It might be that we have some outliers that make the mean to big for India, or too low for Canada/UK. Or the result might be correct.\n",
    "\n",
    "We need to check and see."
   ]
  },
  {
   "cell_type": "code",
   "execution_count": 72,
   "metadata": {
    "collapsed": true
   },
   "outputs": [],
   "source": [
    "usincauk = survey_updated[survey_updated['CountryLive'].str.contains('United States of America|India|Canada|United Kingdom')]"
   ]
  },
  {
   "cell_type": "code",
   "execution_count": 82,
   "metadata": {
    "collapsed": false
   },
   "outputs": [
    {
     "name": "stderr",
     "output_type": "stream",
     "text": [
      "/dataquest/system/env/python3/lib/python3.4/site-packages/seaborn/categorical.py:454: FutureWarning: remove_na is deprecated and is a private function. Do not use.\n",
      "  box_data = remove_na(group_data)\n"
     ]
    },
    {
     "data": {
      "image/png": "[encoded data removed]",
      "text/plain": [
       "<matplotlib.figure.Figure at 0x7f0a983e9518>"
      ]
     },
     "metadata": {},
     "output_type": "display_data"
    }
   ],
   "source": [
    "import seaborn as sns\n",
    "sns.boxplot(y='MoneyPerMonth', x='CountryLive', data = usincauk)\n",
    "plt.title('Money spent distribution by country', fontsize = 16)\n",
    "plt.ylabel('Money per Month in US$')\n",
    "plt.xlabel('Country')\n",
    "plt.xticks(range(4), ['US', 'UK', 'India', 'Canada'])\n",
    "plt.show()"
   ]
  },
  {
   "cell_type": "markdown",
   "metadata": {},
   "source": [
    "We can immediately see there is something off with our US data, because 2 persons have spent more than 50000 dollars per month for learning. That's extremely unlikely, so we are going to remove every value that goes over 20000 dollars per month and then we are going to recreate the plot."
   ]
  },
  {
   "cell_type": "code",
   "execution_count": 74,
   "metadata": {
    "collapsed": true
   },
   "outputs": [],
   "source": [
    "survey_updated = survey_updated[survey_updated['MoneyPerMonth'] < 20000]"
   ]
  },
  {
   "cell_type": "code",
   "execution_count": 75,
   "metadata": {
    "collapsed": false
   },
   "outputs": [
    {
     "data": {
      "text/plain": [
       "CountryLive\n",
       "United States of America    183.800110\n",
       "India                       135.100982\n",
       "United Kingdom               45.534443\n",
       "Canada                      113.510961\n",
       "Name: MoneyPerMonth, dtype: float64"
      ]
     },
     "execution_count": 75,
     "metadata": {},
     "output_type": "execute_result"
    }
   ],
   "source": [
    "countries_mean = survey_updated.groupby('CountryLive').mean()\n",
    "countries_mean['MoneyPerMonth'][['United States of America', 'India', 'United Kingdom', 'Canada']]"
   ]
  },
  {
   "cell_type": "code",
   "execution_count": 83,
   "metadata": {
    "collapsed": false,
    "scrolled": true
   },
   "outputs": [
    {
     "name": "stderr",
     "output_type": "stream",
     "text": [
      "/dataquest/system/env/python3/lib/python3.4/site-packages/seaborn/categorical.py:454: FutureWarning: remove_na is deprecated and is a private function. Do not use.\n",
      "  box_data = remove_na(group_data)\n"
     ]
    },
    {
     "data": {
      "image/png": "[encoded data removed]",
      "text/plain": [
       "<matplotlib.figure.Figure at 0x7f0a8c1ac588>"
      ]
     },
     "metadata": {},
     "output_type": "display_data"
    }
   ],
   "source": [
    "usincauk = survey_updated[survey_updated['CountryLive'].str.contains('United States of America|India|Canada|United Kingdom')]\n",
    "\n",
    "import seaborn as sns\n",
    "sns.boxplot(y='MoneyPerMonth', x='CountryLive', data = usincauk)\n",
    "plt.title('Money spent distribution by country', fontsize = 16)\n",
    "plt.ylabel('Money per Month in US$')\n",
    "plt.xlabel('Country')\n",
    "plt.xticks(range(4), ['US', 'UK', 'India', 'Canada'])\n",
    "plt.show()"
   ]
  },
  {
   "cell_type": "markdown",
   "metadata": {
    "collapsed": true
   },
   "source": [
    "There are a few outliers for India (oveer $2500 spent per month), so let's take a closer look at those."
   ]
  },
  {
   "cell_type": "code",
   "execution_count": 93,
   "metadata": {
    "collapsed": false
   },
   "outputs": [
    {
     "data": {
      "text/html": [
       "<div>\n",
       "<style scoped>\n",
       "    .dataframe tbody tr th:only-of-type {\n",
       "        vertical-align: middle;\n",
       "    }\n",
       "\n",
       "    .dataframe tbody tr th {\n",
       "        vertical-align: top;\n",
       "    }\n",
       "\n",
       "    .dataframe thead th {\n",
       "        text-align: right;\n",
       "    }\n",
       "</style>\n",
       "<table border=\"1\" class=\"dataframe\">\n",
       "  <thead>\n",
       "    <tr style=\"text-align: right;\">\n",
       "      <th></th>\n",
       "      <th>Age</th>\n",
       "      <th>AttendedBootcamp</th>\n",
       "      <th>BootcampFinish</th>\n",
       "      <th>BootcampLoanYesNo</th>\n",
       "      <th>BootcampName</th>\n",
       "      <th>BootcampRecommend</th>\n",
       "      <th>ChildrenNumber</th>\n",
       "      <th>CityPopulation</th>\n",
       "      <th>CodeEventConferences</th>\n",
       "      <th>CodeEventDjangoGirls</th>\n",
       "      <th>...</th>\n",
       "      <th>YouTubeFunFunFunction</th>\n",
       "      <th>YouTubeGoogleDev</th>\n",
       "      <th>YouTubeLearnCode</th>\n",
       "      <th>YouTubeLevelUpTuts</th>\n",
       "      <th>YouTubeMIT</th>\n",
       "      <th>YouTubeMozillaHacks</th>\n",
       "      <th>YouTubeOther</th>\n",
       "      <th>YouTubeSimplilearn</th>\n",
       "      <th>YouTubeTheNewBoston</th>\n",
       "      <th>MoneyPerMonth</th>\n",
       "    </tr>\n",
       "  </thead>\n",
       "  <tbody>\n",
       "  </tbody>\n",
       "</table>\n",
       "<p>0 rows × 137 columns</p>\n",
       "</div>"
      ],
      "text/plain": [
       "Empty DataFrame\n",
       "Columns: [Age, AttendedBootcamp, BootcampFinish, BootcampLoanYesNo, BootcampName, BootcampRecommend, ChildrenNumber, CityPopulation, CodeEventConferences, CodeEventDjangoGirls, CodeEventFCC, CodeEventGameJam, CodeEventGirlDev, CodeEventHackathons, CodeEventMeetup, CodeEventNodeSchool, CodeEventNone, CodeEventOther, CodeEventRailsBridge, CodeEventRailsGirls, CodeEventStartUpWknd, CodeEventWkdBootcamps, CodeEventWomenCode, CodeEventWorkshops, CommuteTime, CountryCitizen, CountryLive, EmploymentField, EmploymentFieldOther, EmploymentStatus, EmploymentStatusOther, ExpectedEarning, FinanciallySupporting, FirstDevJob, Gender, GenderOther, HasChildren, HasDebt, HasFinancialDependents, HasHighSpdInternet, HasHomeMortgage, HasServedInMilitary, HasStudentDebt, HomeMortgageOwe, HoursLearning, ID.x, ID.y, Income, IsEthnicMinority, IsReceiveDisabilitiesBenefits, IsSoftwareDev, IsUnderEmployed, JobApplyWhen, JobInterestBackEnd, JobInterestDataEngr, JobInterestDataSci, JobInterestDevOps, JobInterestFrontEnd, JobInterestFullStack, JobInterestGameDev, JobInterestInfoSec, JobInterestMobile, JobInterestOther, JobInterestProjMngr, JobInterestQAEngr, JobInterestUX, JobPref, JobRelocateYesNo, JobRoleInterest, JobWherePref, LanguageAtHome, MaritalStatus, MoneyForLearning, MonthsProgramming, NetworkID, Part1EndTime, Part1StartTime, Part2EndTime, Part2StartTime, PodcastChangeLog, PodcastCodeNewbie, PodcastCodePen, PodcastDevTea, PodcastDotNET, PodcastGiantRobots, PodcastJSAir, PodcastJSJabber, PodcastNone, PodcastOther, PodcastProgThrowdown, PodcastRubyRogues, PodcastSEDaily, PodcastSERadio, PodcastShopTalk, PodcastTalkPython, PodcastTheWebAhead, ResourceCodecademy, ResourceCodeWars, ResourceCoursera, ResourceCSS, ...]\n",
       "Index: []\n",
       "\n",
       "[0 rows x 137 columns]"
      ]
     },
     "execution_count": 93,
     "metadata": {},
     "output_type": "execute_result"
    }
   ],
   "source": [
    "india_outliers = usincauk[(usincauk['CountryLive'] == 'India') & (usincauk['MoneyPerMonth'] >=2500)]\n",
    "india_outliers"
   ]
  },
  {
   "cell_type": "markdown",
   "metadata": {},
   "source": [
    "It doesn't seem like the outliers attended a bootcamp, so we don't have a good explanation for the high money spent. We are going to remove those outliers."
   ]
  },
  {
   "cell_type": "code",
   "execution_count": 94,
   "metadata": {
    "collapsed": true
   },
   "outputs": [],
   "source": [
    "usincauk = usincauk.drop(india_outliers.index)"
   ]
  },
  {
   "cell_type": "markdown",
   "metadata": {},
   "source": [
    "Let's take a look also at the US outliers (over $6000 spent) "
   ]
  },
  {
   "cell_type": "code",
   "execution_count": 95,
   "metadata": {
    "collapsed": false
   },
   "outputs": [
    {
     "data": {
      "text/html": [
       "<div>\n",
       "<style scoped>\n",
       "    .dataframe tbody tr th:only-of-type {\n",
       "        vertical-align: middle;\n",
       "    }\n",
       "\n",
       "    .dataframe tbody tr th {\n",
       "        vertical-align: top;\n",
       "    }\n",
       "\n",
       "    .dataframe thead th {\n",
       "        text-align: right;\n",
       "    }\n",
       "</style>\n",
       "<table border=\"1\" class=\"dataframe\">\n",
       "  <thead>\n",
       "    <tr style=\"text-align: right;\">\n",
       "      <th></th>\n",
       "      <th>Age</th>\n",
       "      <th>AttendedBootcamp</th>\n",
       "      <th>BootcampFinish</th>\n",
       "      <th>BootcampLoanYesNo</th>\n",
       "      <th>BootcampName</th>\n",
       "      <th>BootcampRecommend</th>\n",
       "      <th>ChildrenNumber</th>\n",
       "      <th>CityPopulation</th>\n",
       "      <th>CodeEventConferences</th>\n",
       "      <th>CodeEventDjangoGirls</th>\n",
       "      <th>...</th>\n",
       "      <th>YouTubeFunFunFunction</th>\n",
       "      <th>YouTubeGoogleDev</th>\n",
       "      <th>YouTubeLearnCode</th>\n",
       "      <th>YouTubeLevelUpTuts</th>\n",
       "      <th>YouTubeMIT</th>\n",
       "      <th>YouTubeMozillaHacks</th>\n",
       "      <th>YouTubeOther</th>\n",
       "      <th>YouTubeSimplilearn</th>\n",
       "      <th>YouTubeTheNewBoston</th>\n",
       "      <th>MoneyPerMonth</th>\n",
       "    </tr>\n",
       "  </thead>\n",
       "  <tbody>\n",
       "    <tr>\n",
       "      <th>718</th>\n",
       "      <td>26.0</td>\n",
       "      <td>1.0</td>\n",
       "      <td>0.0</td>\n",
       "      <td>0.0</td>\n",
       "      <td>The Coding Boot Camp at UCLA Extension</td>\n",
       "      <td>1.0</td>\n",
       "      <td>NaN</td>\n",
       "      <td>more than 1 million</td>\n",
       "      <td>1.0</td>\n",
       "      <td>NaN</td>\n",
       "      <td>...</td>\n",
       "      <td>NaN</td>\n",
       "      <td>NaN</td>\n",
       "      <td>NaN</td>\n",
       "      <td>NaN</td>\n",
       "      <td>NaN</td>\n",
       "      <td>NaN</td>\n",
       "      <td>NaN</td>\n",
       "      <td>NaN</td>\n",
       "      <td>NaN</td>\n",
       "      <td>8000.000000</td>\n",
       "    </tr>\n",
       "    <tr>\n",
       "      <th>1222</th>\n",
       "      <td>32.0</td>\n",
       "      <td>1.0</td>\n",
       "      <td>0.0</td>\n",
       "      <td>0.0</td>\n",
       "      <td>The Iron Yard</td>\n",
       "      <td>1.0</td>\n",
       "      <td>NaN</td>\n",
       "      <td>between 100,000 and 1 million</td>\n",
       "      <td>NaN</td>\n",
       "      <td>NaN</td>\n",
       "      <td>...</td>\n",
       "      <td>NaN</td>\n",
       "      <td>NaN</td>\n",
       "      <td>1.0</td>\n",
       "      <td>NaN</td>\n",
       "      <td>NaN</td>\n",
       "      <td>NaN</td>\n",
       "      <td>NaN</td>\n",
       "      <td>NaN</td>\n",
       "      <td>NaN</td>\n",
       "      <td>6500.000000</td>\n",
       "    </tr>\n",
       "    <tr>\n",
       "      <th>3184</th>\n",
       "      <td>34.0</td>\n",
       "      <td>1.0</td>\n",
       "      <td>1.0</td>\n",
       "      <td>0.0</td>\n",
       "      <td>We Can Code IT</td>\n",
       "      <td>1.0</td>\n",
       "      <td>NaN</td>\n",
       "      <td>more than 1 million</td>\n",
       "      <td>NaN</td>\n",
       "      <td>NaN</td>\n",
       "      <td>...</td>\n",
       "      <td>NaN</td>\n",
       "      <td>NaN</td>\n",
       "      <td>NaN</td>\n",
       "      <td>NaN</td>\n",
       "      <td>NaN</td>\n",
       "      <td>NaN</td>\n",
       "      <td>NaN</td>\n",
       "      <td>NaN</td>\n",
       "      <td>NaN</td>\n",
       "      <td>9000.000000</td>\n",
       "    </tr>\n",
       "    <tr>\n",
       "      <th>6805</th>\n",
       "      <td>46.0</td>\n",
       "      <td>1.0</td>\n",
       "      <td>1.0</td>\n",
       "      <td>1.0</td>\n",
       "      <td>Sabio.la</td>\n",
       "      <td>0.0</td>\n",
       "      <td>NaN</td>\n",
       "      <td>between 100,000 and 1 million</td>\n",
       "      <td>NaN</td>\n",
       "      <td>NaN</td>\n",
       "      <td>...</td>\n",
       "      <td>NaN</td>\n",
       "      <td>NaN</td>\n",
       "      <td>NaN</td>\n",
       "      <td>NaN</td>\n",
       "      <td>NaN</td>\n",
       "      <td>NaN</td>\n",
       "      <td>NaN</td>\n",
       "      <td>NaN</td>\n",
       "      <td>NaN</td>\n",
       "      <td>15000.000000</td>\n",
       "    </tr>\n",
       "    <tr>\n",
       "      <th>7505</th>\n",
       "      <td>26.0</td>\n",
       "      <td>1.0</td>\n",
       "      <td>0.0</td>\n",
       "      <td>1.0</td>\n",
       "      <td>Codeup</td>\n",
       "      <td>0.0</td>\n",
       "      <td>NaN</td>\n",
       "      <td>more than 1 million</td>\n",
       "      <td>NaN</td>\n",
       "      <td>NaN</td>\n",
       "      <td>...</td>\n",
       "      <td>NaN</td>\n",
       "      <td>NaN</td>\n",
       "      <td>NaN</td>\n",
       "      <td>NaN</td>\n",
       "      <td>1.0</td>\n",
       "      <td>NaN</td>\n",
       "      <td>NaN</td>\n",
       "      <td>NaN</td>\n",
       "      <td>NaN</td>\n",
       "      <td>6666.666667</td>\n",
       "    </tr>\n",
       "    <tr>\n",
       "      <th>9778</th>\n",
       "      <td>33.0</td>\n",
       "      <td>1.0</td>\n",
       "      <td>0.0</td>\n",
       "      <td>1.0</td>\n",
       "      <td>Grand Circus</td>\n",
       "      <td>1.0</td>\n",
       "      <td>NaN</td>\n",
       "      <td>between 100,000 and 1 million</td>\n",
       "      <td>NaN</td>\n",
       "      <td>NaN</td>\n",
       "      <td>...</td>\n",
       "      <td>NaN</td>\n",
       "      <td>NaN</td>\n",
       "      <td>NaN</td>\n",
       "      <td>NaN</td>\n",
       "      <td>NaN</td>\n",
       "      <td>NaN</td>\n",
       "      <td>NaN</td>\n",
       "      <td>NaN</td>\n",
       "      <td>NaN</td>\n",
       "      <td>8000.000000</td>\n",
       "    </tr>\n",
       "  </tbody>\n",
       "</table>\n",
       "<p>6 rows × 137 columns</p>\n",
       "</div>"
      ],
      "text/plain": [
       "       Age  AttendedBootcamp  BootcampFinish  BootcampLoanYesNo  \\\n",
       "718   26.0               1.0             0.0                0.0   \n",
       "1222  32.0               1.0             0.0                0.0   \n",
       "3184  34.0               1.0             1.0                0.0   \n",
       "6805  46.0               1.0             1.0                1.0   \n",
       "7505  26.0               1.0             0.0                1.0   \n",
       "9778  33.0               1.0             0.0                1.0   \n",
       "\n",
       "                                BootcampName  BootcampRecommend  \\\n",
       "718   The Coding Boot Camp at UCLA Extension                1.0   \n",
       "1222                           The Iron Yard                1.0   \n",
       "3184                          We Can Code IT                1.0   \n",
       "6805                                Sabio.la                0.0   \n",
       "7505                                  Codeup                0.0   \n",
       "9778                            Grand Circus                1.0   \n",
       "\n",
       "      ChildrenNumber                 CityPopulation  CodeEventConferences  \\\n",
       "718              NaN            more than 1 million                   1.0   \n",
       "1222             NaN  between 100,000 and 1 million                   NaN   \n",
       "3184             NaN            more than 1 million                   NaN   \n",
       "6805             NaN  between 100,000 and 1 million                   NaN   \n",
       "7505             NaN            more than 1 million                   NaN   \n",
       "9778             NaN  between 100,000 and 1 million                   NaN   \n",
       "\n",
       "      CodeEventDjangoGirls      ...        YouTubeFunFunFunction  \\\n",
       "718                    NaN      ...                          NaN   \n",
       "1222                   NaN      ...                          NaN   \n",
       "3184                   NaN      ...                          NaN   \n",
       "6805                   NaN      ...                          NaN   \n",
       "7505                   NaN      ...                          NaN   \n",
       "9778                   NaN      ...                          NaN   \n",
       "\n",
       "      YouTubeGoogleDev  YouTubeLearnCode  YouTubeLevelUpTuts  YouTubeMIT  \\\n",
       "718                NaN               NaN                 NaN         NaN   \n",
       "1222               NaN               1.0                 NaN         NaN   \n",
       "3184               NaN               NaN                 NaN         NaN   \n",
       "6805               NaN               NaN                 NaN         NaN   \n",
       "7505               NaN               NaN                 NaN         1.0   \n",
       "9778               NaN               NaN                 NaN         NaN   \n",
       "\n",
       "      YouTubeMozillaHacks  YouTubeOther YouTubeSimplilearn  \\\n",
       "718                   NaN           NaN                NaN   \n",
       "1222                  NaN           NaN                NaN   \n",
       "3184                  NaN           NaN                NaN   \n",
       "6805                  NaN           NaN                NaN   \n",
       "7505                  NaN           NaN                NaN   \n",
       "9778                  NaN           NaN                NaN   \n",
       "\n",
       "      YouTubeTheNewBoston  MoneyPerMonth  \n",
       "718                   NaN    8000.000000  \n",
       "1222                  NaN    6500.000000  \n",
       "3184                  NaN    9000.000000  \n",
       "6805                  NaN   15000.000000  \n",
       "7505                  NaN    6666.666667  \n",
       "9778                  NaN    8000.000000  \n",
       "\n",
       "[6 rows x 137 columns]"
      ]
     },
     "execution_count": 95,
     "metadata": {},
     "output_type": "execute_result"
    }
   ],
   "source": [
    "us_outliers = usincauk[(usincauk['CountryLive'] == 'United States of America') & (usincauk['MoneyPerMonth'] >=6000)]\n",
    "us_outliers"
   ]
  },
  {
   "cell_type": "markdown",
   "metadata": {},
   "source": [
    "6 out of the 11 otliers attended bootcamps, but the other 5 didn't. We are going to remove those 5, but also thise who have been programming for less than 3 months (the amount spent should be realistically lower for under 3 months). "
   ]
  },
  {
   "cell_type": "code",
   "execution_count": 97,
   "metadata": {
    "collapsed": false
   },
   "outputs": [],
   "source": [
    "no_bootcamp = usincauk[\n",
    "    (usincauk['CountryLive'] == 'United States of America') & \n",
    "    (usincauk['MoneyPerMonth'] >= 6000) &\n",
    "    (usincauk['AttendedBootcamp'] == 0)\n",
    "]\n",
    "\n",
    "usincauk = usincauk.drop(no_bootcamp.index)\n",
    "\n",
    "less_than_3mo = usincauk[\n",
    "    (usincauk['CountryLive'] == 'United States of America') & \n",
    "    (usincauk['MoneyPerMonth'] >= 6000) &\n",
    "    (usincauk['MonthsProgramming'] <= 3)\n",
    "]\n",
    "\n",
    "usincauk = usincauk.drop(less_than_3mo.index)"
   ]
  },
  {
   "cell_type": "markdown",
   "metadata": {},
   "source": [
    "There's 1 outlier for Canada (that spent over $4500 per month) that we need to examine."
   ]
  },
  {
   "cell_type": "code",
   "execution_count": 100,
   "metadata": {
    "collapsed": false
   },
   "outputs": [
    {
     "data": {
      "text/html": [
       "<div>\n",
       "<style scoped>\n",
       "    .dataframe tbody tr th:only-of-type {\n",
       "        vertical-align: middle;\n",
       "    }\n",
       "\n",
       "    .dataframe tbody tr th {\n",
       "        vertical-align: top;\n",
       "    }\n",
       "\n",
       "    .dataframe thead th {\n",
       "        text-align: right;\n",
       "    }\n",
       "</style>\n",
       "<table border=\"1\" class=\"dataframe\">\n",
       "  <thead>\n",
       "    <tr style=\"text-align: right;\">\n",
       "      <th></th>\n",
       "      <th>Age</th>\n",
       "      <th>AttendedBootcamp</th>\n",
       "      <th>BootcampFinish</th>\n",
       "      <th>BootcampLoanYesNo</th>\n",
       "      <th>BootcampName</th>\n",
       "      <th>BootcampRecommend</th>\n",
       "      <th>ChildrenNumber</th>\n",
       "      <th>CityPopulation</th>\n",
       "      <th>CodeEventConferences</th>\n",
       "      <th>CodeEventDjangoGirls</th>\n",
       "      <th>...</th>\n",
       "      <th>YouTubeFunFunFunction</th>\n",
       "      <th>YouTubeGoogleDev</th>\n",
       "      <th>YouTubeLearnCode</th>\n",
       "      <th>YouTubeLevelUpTuts</th>\n",
       "      <th>YouTubeMIT</th>\n",
       "      <th>YouTubeMozillaHacks</th>\n",
       "      <th>YouTubeOther</th>\n",
       "      <th>YouTubeSimplilearn</th>\n",
       "      <th>YouTubeTheNewBoston</th>\n",
       "      <th>MoneyPerMonth</th>\n",
       "    </tr>\n",
       "  </thead>\n",
       "  <tbody>\n",
       "    <tr>\n",
       "      <th>13659</th>\n",
       "      <td>24.0</td>\n",
       "      <td>1.0</td>\n",
       "      <td>0.0</td>\n",
       "      <td>0.0</td>\n",
       "      <td>Bloc.io</td>\n",
       "      <td>1.0</td>\n",
       "      <td>NaN</td>\n",
       "      <td>more than 1 million</td>\n",
       "      <td>1.0</td>\n",
       "      <td>NaN</td>\n",
       "      <td>...</td>\n",
       "      <td>NaN</td>\n",
       "      <td>NaN</td>\n",
       "      <td>NaN</td>\n",
       "      <td>NaN</td>\n",
       "      <td>1.0</td>\n",
       "      <td>NaN</td>\n",
       "      <td>NaN</td>\n",
       "      <td>NaN</td>\n",
       "      <td>NaN</td>\n",
       "      <td>5000.0</td>\n",
       "    </tr>\n",
       "  </tbody>\n",
       "</table>\n",
       "<p>1 rows × 137 columns</p>\n",
       "</div>"
      ],
      "text/plain": [
       "        Age  AttendedBootcamp  BootcampFinish  BootcampLoanYesNo BootcampName  \\\n",
       "13659  24.0               1.0             0.0                0.0      Bloc.io   \n",
       "\n",
       "       BootcampRecommend  ChildrenNumber       CityPopulation  \\\n",
       "13659                1.0             NaN  more than 1 million   \n",
       "\n",
       "       CodeEventConferences  CodeEventDjangoGirls      ...        \\\n",
       "13659                   1.0                   NaN      ...         \n",
       "\n",
       "       YouTubeFunFunFunction  YouTubeGoogleDev  YouTubeLearnCode  \\\n",
       "13659                    NaN               NaN               NaN   \n",
       "\n",
       "       YouTubeLevelUpTuts  YouTubeMIT  YouTubeMozillaHacks  YouTubeOther  \\\n",
       "13659                 NaN         1.0                  NaN           NaN   \n",
       "\n",
       "      YouTubeSimplilearn  YouTubeTheNewBoston  MoneyPerMonth  \n",
       "13659                NaN                  NaN         5000.0  \n",
       "\n",
       "[1 rows x 137 columns]"
      ]
     },
     "execution_count": 100,
     "metadata": {},
     "output_type": "execute_result"
    }
   ],
   "source": [
    "canada_outliers = usincauk[(usincauk['CountryLive'] == 'Canada') & (usincauk['MoneyPerMonth'] >= 4500)]\n",
    "canada_outliers"
   ]
  },
  {
   "cell_type": "markdown",
   "metadata": {},
   "source": [
    "This outlier attended a bootcamp, but only started 2 months ago. He most likely paid a larger amount of money in the beginning when he enrolled, but didn't paid that sum each month. We are going to remove that outlier as well."
   ]
  },
  {
   "cell_type": "code",
   "execution_count": 101,
   "metadata": {
    "collapsed": true
   },
   "outputs": [],
   "source": [
    "usincauk = usincauk.drop(canada_outliers.index)"
   ]
  },
  {
   "cell_type": "markdown",
   "metadata": {},
   "source": [
    "Let's recreate our plot with the new cleaned dataset."
   ]
  },
  {
   "cell_type": "code",
   "execution_count": 103,
   "metadata": {
    "collapsed": false
   },
   "outputs": [
    {
     "data": {
      "text/plain": [
       "CountryLive\n",
       "Canada                       93.065400\n",
       "India                        65.758763\n",
       "United Kingdom               45.534443\n",
       "United States of America    142.654608\n",
       "Name: MoneyPerMonth, dtype: float64"
      ]
     },
     "execution_count": 103,
     "metadata": {},
     "output_type": "execute_result"
    }
   ],
   "source": [
    "usincauk.groupby('CountryLive').mean()['MoneyPerMonth']\n"
   ]
  },
  {
   "cell_type": "code",
   "execution_count": 105,
   "metadata": {
    "collapsed": false
   },
   "outputs": [
    {
     "name": "stderr",
     "output_type": "stream",
     "text": [
      "/dataquest/system/env/python3/lib/python3.4/site-packages/seaborn/categorical.py:454: FutureWarning: remove_na is deprecated and is a private function. Do not use.\n",
      "  box_data = remove_na(group_data)\n"
     ]
    },
    {
     "data": {
      "image/png": "[encoded data removed]",
      "text/plain": [
       "<matplotlib.figure.Figure at 0x7f0a972f0160>"
      ]
     },
     "metadata": {},
     "output_type": "display_data"
    }
   ],
   "source": [
    "sns.boxplot(y = 'MoneyPerMonth', x = 'CountryLive',\n",
    "            data = usincauk)\n",
    "plt.title('Money spent distribution by country',\n",
    "          fontsize = 16)\n",
    "plt.ylabel('Money per Month in US$)')\n",
    "plt.xlabel('Country')\n",
    "plt.xticks(range(4), ['US', 'UK', 'India', 'Canada'])\n",
    "plt.show()"
   ]
  },
  {
   "cell_type": "markdown",
   "metadata": {},
   "source": [
    "# Choosing the Two Best Markets\n",
    "Considering the results we've found so far, one country we should definitely advertise is US. We have a big number of new coders, that are also willing to pay around $143/month. \n",
    "Our monthly subscription is 59 dollars, so the second option might be Canada (93/month) or India (65/month).\n",
    "UK is definitely out of the question, as the coders there pay around 45/month).\n",
    "\n",
    "Let's take a look again at the frequency table by country, to decided between Canada and India.\n"
   ]
  },
  {
   "cell_type": "code",
   "execution_count": 107,
   "metadata": {
    "collapsed": false
   },
   "outputs": [
    {
     "data": {
      "text/plain": [
       "United States of America    74.967908\n",
       "India                       11.732991\n",
       "United Kingdom               7.163030\n",
       "Canada                       6.136072\n",
       "Name: CountryLive, dtype: float64"
      ]
     },
     "execution_count": 107,
     "metadata": {},
     "output_type": "execute_result"
    }
   ],
   "source": [
    "usincauk['CountryLive'].value_counts(normalize = True) * 100"
   ]
  },
  {
   "cell_type": "markdown",
   "metadata": {},
   "source": [
    "Considering that we have a higher number of potential custumers in India than in Canada, if we can only choose 2 markets, we should obviously go for US and India.\n",
    "Other options could be to either only advertise in the US or split the budget in 3 and cover both India and Canada (plus of course US)."
   ]
  },
  {
   "cell_type": "markdown",
   "metadata": {},
   "source": [
    "# Conclusion \n",
    "\n",
    "In this project we analyzed the survey data for new coders to find the best 2 markets to advertise in. \n",
    "The solid conclusion we've got is that we shoudl advertise in the US. Even if it isn't 100% clear if we should go with Canada or India for the second place, we cand definitely say we have good data to send to the decision makers and a few recommendations to move forward with. "
   ]
  },
  {
   "cell_type": "code",
   "execution_count": null,
   "metadata": {
    "collapsed": true
   },
   "outputs": [],
   "source": []
  }
 ],
 "metadata": {
  "kernelspec": {
   "display_name": "Python 3",
   "language": "python",
   "name": "python3"
  },
  "language_info": {
   "codemirror_mode": {
    "name": "ipython",
    "version": 3
   },
   "file_extension": ".py",
   "mimetype": "text/x-python",
   "name": "python",
   "nbconvert_exporter": "python",
   "pygments_lexer": "ipython3",
   "version": "3.4.3"
  }
 },
 "nbformat": 4,
 "nbformat_minor": 2
}
